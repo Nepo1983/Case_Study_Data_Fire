{
 "cells": [
  {
   "cell_type": "code",
   "execution_count": 1,
   "metadata": {},
   "outputs": [],
   "source": [
    "### Imports\n",
    "import pandas as pd\n",
    "import duckdb as db\n",
    "import os\n",
    "import time\n",
    "import numpy as np\n",
    "import matplotlib.pyplot as plt"
   ]
  },
  {
   "cell_type": "markdown",
   "metadata": {},
   "source": [
    "## Loading the file"
   ]
  },
  {
   "cell_type": "code",
   "execution_count": 2,
   "metadata": {},
   "outputs": [],
   "source": [
    "csv_file = 'Fire_Incidents_20241030.csv'"
   ]
  },
  {
   "cell_type": "code",
   "execution_count": 3,
   "metadata": {},
   "outputs": [],
   "source": [
    "def csv_to_dataframe(csv_file: str) -> pd.DataFrame:\n",
    "    \"\"\"\n",
    "    Transforms a CSV file into a pandas DataFrame.\n",
    "\n",
    "    Parameters:\n",
    "    csv_file (str): The path to the CSV file.\n",
    "\n",
    "    Returns:\n",
    "    pd.DataFrame: The resulting DataFrame.\n",
    "    \"\"\"\n",
    "    return pd.read_csv(csv_file)"
   ]
  },
  {
   "cell_type": "code",
   "execution_count": 4,
   "metadata": {},
   "outputs": [
    {
     "name": "stderr",
     "output_type": "stream",
     "text": [
      "/var/folders/42/fjzlf7bn6573xz4q1rvt4rpm0000gn/T/ipykernel_34420/2668492037.py:11: DtypeWarning: Columns (10,12,13,20,29,38,45,46,55,57,58,59) have mixed types. Specify dtype option on import or set low_memory=False.\n",
      "  return pd.read_csv(csv_file)\n"
     ]
    },
    {
     "name": "stdout",
     "output_type": "stream",
     "text": [
      "   Incident Number  Exposure Number         ID                Address  \\\n",
      "0         11063428                0  110634280  Ellis St. / Jones St.   \n",
      "1         11063430                0  110634300         5322 Geary Bl.   \n",
      "2         11063432                0  110634320          1375 20th Av.   \n",
      "3         11063434                0  110634340           37 Wills St.   \n",
      "4         11063435                0  110634350  24th St. / Folsom St.   \n",
      "\n",
      "  Incident Date  Call Number              Alarm DtTm            Arrival DtTm  \\\n",
      "0    2011/07/11    111920249  2011/07/11 03:24:17 PM  2011/07/11 03:27:10 PM   \n",
      "1    2011/07/11    111920252  2011/07/11 03:29:25 PM  2011/07/11 03:31:57 PM   \n",
      "2    2011/07/11    111920256  2011/07/11 03:30:53 PM  2011/07/11 03:34:57 PM   \n",
      "3    2011/07/11    111920255  2011/07/11 03:31:46 PM  2011/07/11 03:36:42 PM   \n",
      "4    2011/07/11    111920257  2011/07/11 03:38:01 PM  2011/07/11 03:41:26 PM   \n",
      "\n",
      "               Close DtTm City  ... Automatic Extinguishing System Present  \\\n",
      "0  2011/07/11 03:39:24 PM   SF  ...                                    NaN   \n",
      "1  2011/07/11 03:31:57 PM   SF  ...                                    NaN   \n",
      "2  2011/07/11 03:42:26 PM   SF  ...                                    NaN   \n",
      "3  2011/07/11 03:36:42 PM   SF  ...                                    NaN   \n",
      "4  2011/07/11 03:41:46 PM   SF  ...                                    NaN   \n",
      "\n",
      "  Automatic Extinguishing Sytem Type Automatic Extinguishing Sytem Perfomance  \\\n",
      "0                                NaN                                      NaN   \n",
      "1                                NaN                                      NaN   \n",
      "2                                NaN                                      NaN   \n",
      "3                                NaN                                      NaN   \n",
      "4                                NaN                                      NaN   \n",
      "\n",
      "  Automatic Extinguishing Sytem Failure Reason  \\\n",
      "0                                          NaN   \n",
      "1                                          NaN   \n",
      "2                                          NaN   \n",
      "3                                          NaN   \n",
      "4                                          NaN   \n",
      "\n",
      "   Number of Sprinkler Heads Operating  Supervisor District  \\\n",
      "0                                  NaN                  5.0   \n",
      "1                                  NaN                  1.0   \n",
      "2                                  NaN                  4.0   \n",
      "3                                  NaN                 10.0   \n",
      "4                                  NaN                  9.0   \n",
      "\n",
      "   neighborhood_district                             point  \\\n",
      "0             Tenderloin     POINT (-122.412784 37.784866)   \n",
      "1         Outer Richmond    POINT (-122.476461 37.7808393)   \n",
      "2        Sunset/Parkside     POINT (-122.478183 37.762139)   \n",
      "3  Bayview Hunters Point  POINT (-122.3794851 37.73522384)   \n",
      "4                Mission     POINT (-122.414089 37.752505)   \n",
      "\n",
      "               data_as_of          data_loaded_at  \n",
      "0  2011/07/11 06:40:35 PM  2024/10/30 02:24:30 AM  \n",
      "1  2011/07/19 07:13:34 AM  2024/10/30 02:24:30 AM  \n",
      "2  2011/07/11 10:10:05 PM  2024/10/30 02:24:30 AM  \n",
      "3  2011/07/11 03:49:35 PM  2024/10/30 02:24:30 AM  \n",
      "4  2011/07/15 03:22:31 PM  2024/10/30 02:24:30 AM  \n",
      "\n",
      "[5 rows x 66 columns]\n"
     ]
    }
   ],
   "source": [
    "# Example usage\n",
    "df = csv_to_dataframe(csv_file)\n",
    "print(df.head())"
   ]
  },
  {
   "cell_type": "markdown",
   "metadata": {},
   "source": [
    "## Adjusting the dataset"
   ]
  },
  {
   "cell_type": "code",
   "execution_count": 5,
   "metadata": {},
   "outputs": [],
   "source": [
    "# Clean column names\n",
    "df.columns = df.columns.str.strip().str.lower().str.replace(' ', '_').str.replace('(', '').str.replace(')', '')"
   ]
  },
  {
   "cell_type": "code",
   "execution_count": 6,
   "metadata": {},
   "outputs": [
    {
     "name": "stdout",
     "output_type": "stream",
     "text": [
      "<class 'pandas.core.frame.DataFrame'>\n",
      "RangeIndex: 681856 entries, 0 to 681855\n",
      "Data columns (total 66 columns):\n",
      " #   Column                                        Non-Null Count   Dtype  \n",
      "---  ------                                        --------------   -----  \n",
      " 0   incident_number                               681856 non-null  int64  \n",
      " 1   exposure_number                               681856 non-null  int64  \n",
      " 2   id                                            681856 non-null  int64  \n",
      " 3   address                                       681541 non-null  object \n",
      " 4   incident_date                                 681856 non-null  object \n",
      " 5   call_number                                   681856 non-null  int64  \n",
      " 6   alarm_dttm                                    681855 non-null  object \n",
      " 7   arrival_dttm                                  681784 non-null  object \n",
      " 8   close_dttm                                    681841 non-null  object \n",
      " 9   city                                          679953 non-null  object \n",
      " 10  zipcode                                       681687 non-null  object \n",
      " 11  battalion                                     681856 non-null  object \n",
      " 12  station_area                                  681034 non-null  object \n",
      " 13  box                                           384009 non-null  object \n",
      " 14  suppression_units                             681856 non-null  int64  \n",
      " 15  suppression_personnel                         681856 non-null  int64  \n",
      " 16  ems_units                                     681856 non-null  int64  \n",
      " 17  ems_personnel                                 681856 non-null  int64  \n",
      " 18  other_units                                   681856 non-null  int64  \n",
      " 19  other_personnel                               681856 non-null  int64  \n",
      " 20  first_unit_on_scene                           329824 non-null  object \n",
      " 21  estimated_property_loss                       134139 non-null  float64\n",
      " 22  estimated_contents_loss                       140723 non-null  float64\n",
      " 23  fire_fatalities                               681856 non-null  int64  \n",
      " 24  fire_injuries                                 681856 non-null  int64  \n",
      " 25  civilian_fatalities                           681856 non-null  int64  \n",
      " 26  civilian_injuries                             681856 non-null  int64  \n",
      " 27  number_of_alarms                              681856 non-null  int64  \n",
      " 28  primary_situation                             681842 non-null  object \n",
      " 29  mutual_aid                                    345770 non-null  object \n",
      " 30  action_taken_primary                          681752 non-null  object \n",
      " 31  action_taken_secondary                        43060 non-null   object \n",
      " 32  action_taken_other                            5671 non-null    object \n",
      " 33  detector_alerted_occupants                    35279 non-null   object \n",
      " 34  property_use                                  678758 non-null  object \n",
      " 35  area_of_fire_origin                           35239 non-null   object \n",
      " 36  ignition_cause                                35235 non-null   object \n",
      " 37  ignition_factor_primary                       32932 non-null   object \n",
      " 38  ignition_factor_secondary                     254 non-null     object \n",
      " 39  heat_source                                   35237 non-null   object \n",
      " 40  item_first_ignited                            35235 non-null   object \n",
      " 41  human_factors_associated_with_ignition        32324 non-null   object \n",
      " 42  structure_type                                9965 non-null    object \n",
      " 43  structure_status                              8914 non-null    object \n",
      " 44  floor_of_fire_origin                          9666 non-null    float64\n",
      " 45  fire_spread                                   3142 non-null    object \n",
      " 46  no_flame_spread                               13032 non-null   object \n",
      " 47  number_of_floors_with_minimum_damage          6639 non-null    float64\n",
      " 48  number_of_floors_with_significant_damage      6631 non-null    float64\n",
      " 49  number_of_floors_with_heavy_damage            6614 non-null    float64\n",
      " 50  number_of_floors_with_extreme_damage          6616 non-null    float64\n",
      " 51  detectors_present                             8914 non-null    object \n",
      " 52  detector_type                                 4851 non-null    object \n",
      " 53  detector_operation                            4813 non-null    object \n",
      " 54  detector_effectiveness                        3355 non-null    object \n",
      " 55  detector_failure_reason                       265 non-null     object \n",
      " 56  automatic_extinguishing_system_present        8965 non-null    object \n",
      " 57  automatic_extinguishing_sytem_type            1098 non-null    object \n",
      " 58  automatic_extinguishing_sytem_perfomance      1101 non-null    object \n",
      " 59  automatic_extinguishing_sytem_failure_reason  80 non-null      object \n",
      " 60  number_of_sprinkler_heads_operating           6967 non-null    float64\n",
      " 61  supervisor_district                           671418 non-null  float64\n",
      " 62  neighborhood_district                         671617 non-null  object \n",
      " 63  point                                         681634 non-null  object \n",
      " 64  data_as_of                                    681856 non-null  object \n",
      " 65  data_loaded_at                                681856 non-null  object \n",
      "dtypes: float64(9), int64(15), object(42)\n",
      "memory usage: 343.3+ MB\n"
     ]
    }
   ],
   "source": [
    "df.info()"
   ]
  },
  {
   "cell_type": "markdown",
   "metadata": {},
   "source": [
    "## Collecting the data into data warehouse"
   ]
  },
  {
   "cell_type": "code",
   "execution_count": 7,
   "metadata": {},
   "outputs": [
    {
     "data": {
      "text/plain": [
       "<duckdb.duckdb.DuckDBPyConnection at 0x306e7f4b0>"
      ]
     },
     "execution_count": 7,
     "metadata": {},
     "output_type": "execute_result"
    }
   ],
   "source": [
    "# Create a DuckDB database to store the data in data warehouse format\n",
    "con = db.connect('fire_incidents.db')\n",
    "con.execute('CREATE TABLE IF NOT EXISTS fire_incidents AS SELECT * FROM df')"
   ]
  },
  {
   "cell_type": "markdown",
   "metadata": {},
   "source": [
    "### Creating aggregated views"
   ]
  },
  {
   "cell_type": "code",
   "execution_count": 8,
   "metadata": {},
   "outputs": [
    {
     "data": {
      "text/plain": [
       "<duckdb.duckdb.DuckDBPyConnection at 0x306e7f4b0>"
      ]
     },
     "execution_count": 8,
     "metadata": {},
     "output_type": "execute_result"
    }
   ],
   "source": [
    "### Fire incidents by district\n",
    "con.execute(\"\"\"CREATE OR REPLACE VIEW fire_incidents_by_district AS\n",
    "SELECT station_area AS district, COUNT(*) AS incident_count\n",
    "FROM fire_incidents\n",
    "GROUP BY 1\"\"\")\n"
   ]
  },
  {
   "cell_type": "code",
   "execution_count": 9,
   "metadata": {},
   "outputs": [
    {
     "data": {
      "text/plain": [
       "<duckdb.duckdb.DuckDBPyConnection at 0x306e7f4b0>"
      ]
     },
     "execution_count": 9,
     "metadata": {},
     "output_type": "execute_result"
    }
   ],
   "source": [
    "### Fire incidents by battalion\n",
    "con.execute(\"\"\"CREATE OR REPLACE VIEW fire_incidents_by_battalion AS\n",
    "SELECT battalion, COUNT(*) AS incident_count\n",
    "FROM fire_incidents\n",
    "GROUP BY 1\"\"\")"
   ]
  },
  {
   "cell_type": "code",
   "execution_count": 10,
   "metadata": {},
   "outputs": [
    {
     "data": {
      "text/plain": [
       "<duckdb.duckdb.DuckDBPyConnection at 0x306e7f4b0>"
      ]
     },
     "execution_count": 10,
     "metadata": {},
     "output_type": "execute_result"
    }
   ],
   "source": [
    "### Fire incidents by time period\n",
    "con.execute(\"\"\"CREATE OR REPLACE VIEW fire_incidents_by_time_period AS\n",
    "               SELECT station_area \n",
    "                   ,battalion\n",
    "                   ,month(strptime(incident_date, '%Y/%m/%d')) AS month\n",
    "                   ,COUNT(*) AS incident_count \n",
    "            FROM fire_incidents \n",
    "               GROUP BY 1, 2, 3\"\"\")"
   ]
  },
  {
   "cell_type": "code",
   "execution_count": 11,
   "metadata": {},
   "outputs": [
    {
     "data": {
      "text/plain": [
       "┌──────────┬────────────────┐\n",
       "│ district │ incident_count │\n",
       "│ varchar  │     int64      │\n",
       "├──────────┼────────────────┤\n",
       "│ 01       │          32891 │\n",
       "│ 19       │          10124 │\n",
       "│ 28       │          13639 │\n",
       "│ 06       │          10105 │\n",
       "│ 26       │           4223 │\n",
       "└──────────┴────────────────┘"
      ]
     },
     "execution_count": 11,
     "metadata": {},
     "output_type": "execute_result"
    }
   ],
   "source": [
    "con.sql(\"\"\" SELECT *\n",
    "            FROM fire_incidents_by_district \n",
    "            LIMIT 5 \"\"\")"
   ]
  },
  {
   "cell_type": "code",
   "execution_count": 12,
   "metadata": {},
   "outputs": [
    {
     "data": {
      "text/plain": [
       "┌─────────────────┬─────────────────┬───────────┬───────────────────────┬───────────────┬─────────────┬────────────────────────┬────────────────────────┬────────────────────────┬─────────┬─────────┬───────────┬──────────────┬─────────┬───────────────────┬───────────────────────┬───────────┬───────────────┬─────────────┬─────────────────┬─────────────────────┬─────────────────────────┬─────────────────────────┬─────────────────┬───────────────┬─────────────────────┬───────────────────┬──────────────────┬────────────────────────────────────────────────┬────────────┬──────────────────────────┬────────────────────────┬────────────────────┬──────────────────────────────────────┬──────────────────────────────────────────────────┬─────────────────────┬────────────────┬─────────────────────────┬───────────────────────────┬─────────────┬────────────────────┬────────────────────────────────────────┬────────────────┬──────────────────┬──────────────────────┬─────────────┬─────────────────┬──────────────────────────────────────┬──────────────────────────────────────────┬────────────────────────────────────┬──────────────────────────────────────┬───────────────────┬───────────────┬────────────────────┬────────────────────────┬─────────────────────────┬────────────────────────────────────────┬────────────────────────────────────┬──────────────────────────────────────────┬──────────────────────────────────────────────┬─────────────────────────────────────┬─────────────────────┬────────────────────────────────┬───────────────────────────────────┬────────────────────────┬────────────────────────┐\n",
       "│ incident_number │ exposure_number │    id     │        address        │ incident_date │ call_number │       alarm_dttm       │      arrival_dttm      │       close_dttm       │  city   │ zipcode │ battalion │ station_area │   box   │ suppression_units │ suppression_personnel │ ems_units │ ems_personnel │ other_units │ other_personnel │ first_unit_on_scene │ estimated_property_loss │ estimated_contents_loss │ fire_fatalities │ fire_injuries │ civilian_fatalities │ civilian_injuries │ number_of_alarms │               primary_situation                │ mutual_aid │   action_taken_primary   │ action_taken_secondary │ action_taken_other │      detector_alerted_occupants      │                   property_use                   │ area_of_fire_origin │ ignition_cause │ ignition_factor_primary │ ignition_factor_secondary │ heat_source │ item_first_ignited │ human_factors_associated_with_ignition │ structure_type │ structure_status │ floor_of_fire_origin │ fire_spread │ no_flame_spread │ number_of_floors_with_minimum_damage │ number_of_floors_with_significant_damage │ number_of_floors_with_heavy_damage │ number_of_floors_with_extreme_damage │ detectors_present │ detector_type │ detector_operation │ detector_effectiveness │ detector_failure_reason │ automatic_extinguishing_system_present │ automatic_extinguishing_sytem_type │ automatic_extinguishing_sytem_perfomance │ automatic_extinguishing_sytem_failure_reason │ number_of_sprinkler_heads_operating │ supervisor_district │     neighborhood_district      │               point               │       data_as_of       │     data_loaded_at     │\n",
       "│      int64      │      int64      │   int64   │        varchar        │    varchar    │    int64    │        varchar         │        varchar         │        varchar         │ varchar │ varchar │  varchar  │   varchar    │ varchar │       int64       │         int64         │   int64   │     int64     │    int64    │      int64      │       varchar       │         double          │         double          │      int64      │     int64     │        int64        │       int64       │      int64       │                    varchar                     │  varchar   │         varchar          │        varchar         │      varchar       │               varchar                │                     varchar                      │       varchar       │    varchar     │         varchar         │          varchar          │   varchar   │      varchar       │                varchar                 │    varchar     │     varchar      │        double        │   varchar   │     varchar     │                double                │                  double                  │               double               │                double                │      varchar      │    varchar    │      varchar       │        varchar         │         varchar         │                varchar                 │              varchar               │                 varchar                  │                   varchar                    │               double                │       double        │            varchar             │              varchar              │        varchar         │        varchar         │\n",
       "├─────────────────┼─────────────────┼───────────┼───────────────────────┼───────────────┼─────────────┼────────────────────────┼────────────────────────┼────────────────────────┼─────────┼─────────┼───────────┼──────────────┼─────────┼───────────────────┼───────────────────────┼───────────┼───────────────┼─────────────┼─────────────────┼─────────────────────┼─────────────────────────┼─────────────────────────┼─────────────────┼───────────────┼─────────────────────┼───────────────────┼──────────────────┼────────────────────────────────────────────────┼────────────┼──────────────────────────┼────────────────────────┼────────────────────┼──────────────────────────────────────┼──────────────────────────────────────────────────┼─────────────────────┼────────────────┼─────────────────────────┼───────────────────────────┼─────────────┼────────────────────┼────────────────────────────────────────┼────────────────┼──────────────────┼──────────────────────┼─────────────┼─────────────────┼──────────────────────────────────────┼──────────────────────────────────────────┼────────────────────────────────────┼──────────────────────────────────────┼───────────────────┼───────────────┼────────────────────┼────────────────────────┼─────────────────────────┼────────────────────────────────────────┼────────────────────────────────────┼──────────────────────────────────────────┼──────────────────────────────────────────────┼─────────────────────────────────────┼─────────────────────┼────────────────────────────────┼───────────────────────────────────┼────────────────────────┼────────────────────────┤\n",
       "│        11063428 │               0 │ 110634280 │ Ellis St. / Jones St. │ 2011/07/11    │   111920249 │ 2011/07/11 03:24:17 PM │ 2011/07/11 03:27:10 PM │ 2011/07/11 03:39:24 PM │ SF      │ 94102.0 │ B03       │ 03           │ NULL    │                10 │                    33 │         0 │             0 │           0 │               0 │ 85                  │                    NULL │                    NULL │               0 │             0 │                   0 │                 0 │                1 │ 118 - Trash or rubbish fire, contained         │ NULL       │ 11 - Extinguish          │ 86 - Investigate       │ NULL               │ U - Unknown                          │ 936 - Vacant lot                                 │ NULL                │ NULL           │ NULL                    │ NULL                      │ NULL        │ NULL               │ NULL                                   │ NULL           │ NULL             │                 NULL │ NULL        │ NULL            │                                 NULL │                                     NULL │                               NULL │                                 NULL │ NULL              │ NULL          │ NULL               │ NULL                   │ NULL                    │ NULL                                   │ NULL                               │ NULL                                     │ NULL                                         │                                NULL │                 5.0 │ Tenderloin                     │ POINT (-122.412784 37.784866)     │ 2011/07/11 06:40:35 PM │ 2024/10/30 02:24:30 AM │\n",
       "│        11063430 │               0 │ 110634300 │ 5322 Geary Bl.        │ 2011/07/11    │   111920252 │ 2011/07/11 03:29:25 PM │ 2011/07/11 03:31:57 PM │ 2011/07/11 03:31:57 PM │ SF      │ 94121.0 │ B07       │ 31           │ NULL    │                 1 │                     5 │         0 │             0 │           0 │               0 │ T14                 │                    NULL │                    NULL │               0 │             0 │                   0 │                 0 │                1 │ 611 - Dispatched & canceled en route           │ NULL       │ 93 - Cancelled enroute   │ NULL                   │ NULL               │ NULL                                 │ 963 - Street or road in commercial area          │ NULL                │ NULL           │ NULL                    │ NULL                      │ NULL        │ NULL               │ NULL                                   │ NULL           │ NULL             │                 NULL │ NULL        │ NULL            │                                 NULL │                                     NULL │                               NULL │                                 NULL │ NULL              │ NULL          │ NULL               │ NULL                   │ NULL                    │ NULL                                   │ NULL                               │ NULL                                     │ NULL                                         │                                NULL │                 1.0 │ Outer Richmond                 │ POINT (-122.476461 37.7808393)    │ 2011/07/19 07:13:34 AM │ 2024/10/30 02:24:30 AM │\n",
       "│        11063432 │               0 │ 110634320 │ 1375 20th Av.         │ 2011/07/11    │   111920256 │ 2011/07/11 03:30:53 PM │ 2011/07/11 03:34:57 PM │ 2011/07/11 03:42:26 PM │ SF      │ 94122.0 │ B08       │ 22           │ NULL    │                 1 │                     4 │         0 │             0 │           0 │               0 │ E22                 │                    NULL │                    NULL │               0 │             0 │                   0 │                 0 │                1 │ 311 - Medical assist, assist EMS crew          │ NULL       │ 86 - Investigate         │ NULL                   │ NULL               │ NULL                                 │ 419 - 1 or 2 family dwelling                     │ NULL                │ NULL           │ NULL                    │ NULL                      │ NULL        │ NULL               │ NULL                                   │ NULL           │ NULL             │                 NULL │ NULL        │ NULL            │                                 NULL │                                     NULL │                               NULL │                                 NULL │ NULL              │ NULL          │ NULL               │ NULL                   │ NULL                    │ NULL                                   │ NULL                               │ NULL                                     │ NULL                                         │                                NULL │                 4.0 │ Sunset/Parkside                │ POINT (-122.478183 37.762139)     │ 2011/07/11 10:10:05 PM │ 2024/10/30 02:24:30 AM │\n",
       "│        11063434 │               0 │ 110634340 │ 37 Wills St.          │ 2011/07/11    │   111920255 │ 2011/07/11 03:31:46 PM │ 2011/07/11 03:36:42 PM │ 2011/07/11 03:36:42 PM │ SF      │ 94124.0 │ B10       │ 25           │ NULL    │                 1 │                     4 │         1 │             2 │           0 │               0 │ NULL                │                    NULL │                    NULL │               0 │             0 │                   0 │                 0 │                1 │ 611 - Dispatched & canceled en route           │ NULL       │ 93 - Cancelled enroute   │ NULL                   │ NULL               │ NULL                                 │ NULL                                             │ NULL                │ NULL           │ NULL                    │ NULL                      │ NULL        │ NULL               │ NULL                                   │ NULL           │ NULL             │                 NULL │ NULL        │ NULL            │                                 NULL │                                     NULL │                               NULL │                                 NULL │ NULL              │ NULL          │ NULL               │ NULL                   │ NULL                    │ NULL                                   │ NULL                               │ NULL                                     │ NULL                                         │                                NULL │                10.0 │ Bayview Hunters Point          │ POINT (-122.3794851 37.73522384)  │ 2011/07/11 03:49:35 PM │ 2024/10/30 02:24:30 AM │\n",
       "│        11063435 │               0 │ 110634350 │ 24th St. / Folsom St. │ 2011/07/11    │   111920257 │ 2011/07/11 03:38:01 PM │ 2011/07/11 03:41:26 PM │ 2011/07/11 03:41:46 PM │ SF      │ 94110.0 │ B06       │ 07           │ NULL    │                 2 │                     9 │         0 │             0 │           0 │               0 │ E07                 │                    NULL │                    NULL │               0 │             0 │                   0 │                 0 │                1 │ 711 - Municipal alarm system, Street Box False │ NULL       │ 86 - Investigate         │ NULL                   │ NULL               │ NULL                                 │ 960 - Street, other                              │ NULL                │ NULL           │ NULL                    │ NULL                      │ NULL        │ NULL               │ NULL                                   │ NULL           │ NULL             │                 NULL │ NULL        │ NULL            │                                 NULL │                                     NULL │                               NULL │                                 NULL │ NULL              │ NULL          │ NULL               │ NULL                   │ NULL                    │ NULL                                   │ NULL                               │ NULL                                     │ NULL                                         │                                NULL │                 9.0 │ Mission                        │ POINT (-122.414089 37.752505)     │ 2011/07/15 03:22:31 PM │ 2024/10/30 02:24:30 AM │\n",
       "│        11063438 │               0 │ 110634380 │ 553 Clay St.          │ 2011/07/11    │   111920260 │ 2011/07/11 03:44:51 PM │ 2011/07/11 03:51:07 PM │ 2011/07/11 04:03:47 PM │ SF      │ 94111.0 │ B01       │ 13           │ NULL    │                 1 │                     5 │         0 │             0 │           0 │               0 │ T02                 │                    NULL │                    NULL │               0 │             0 │                   0 │                 0 │                1 │ 520 - Water problem, other                     │ NULL       │ 45 - Remove hazard       │ NULL                   │ NULL               │ NULL                                 │ 419 - 1 or 2 family dwelling                     │ NULL                │ NULL           │ NULL                    │ NULL                      │ NULL        │ NULL               │ NULL                                   │ NULL           │ NULL             │                 NULL │ NULL        │ NULL            │                                 NULL │                                     NULL │                               NULL │                                 NULL │ NULL              │ NULL          │ NULL               │ NULL                   │ NULL                    │ NULL                                   │ NULL                               │ NULL                                     │ NULL                                         │                                NULL │                 3.0 │ Chinatown                      │ POINT (-122.40243904 37.7945868)  │ 2011/07/16 07:03:36 AM │ 2024/10/30 02:24:30 AM │\n",
       "│        11063439 │               0 │ 110634390 │ 4th St. / Bryant St.  │ 2011/07/11    │   111920261 │ 2011/07/11 03:49:53 PM │ 2011/07/11 03:53:27 PM │ 2011/07/11 03:55:09 PM │ SF      │ 94105.0 │ B03       │ 08           │ NULL    │                 2 │                     9 │         0 │             0 │           0 │               0 │ T01                 │                    NULL │                    NULL │               0 │             0 │                   0 │                 0 │                1 │ 711 - Municipal alarm system, Street Box False │ NULL       │ 86 - Investigate         │ NULL                   │ NULL               │ NULL                                 │ 960 - Street, other                              │ NULL                │ NULL           │ NULL                    │ NULL                      │ NULL        │ NULL               │ NULL                                   │ NULL           │ NULL             │                 NULL │ NULL        │ NULL            │                                 NULL │                                     NULL │                               NULL │                                 NULL │ NULL              │ NULL          │ NULL               │ NULL                   │ NULL                    │ NULL                                   │ NULL                               │ NULL                                     │ NULL                                         │                                NULL │                 6.0 │ South of Market                │ POINT (-122.398063 37.779565)     │ 2011/08/02 12:35:29 PM │ 2024/10/30 02:24:30 AM │\n",
       "│        11063442 │               0 │ 110634420 │ 45 Fremont St.        │ 2011/07/11    │   111920264 │ 2011/07/11 04:03:06 PM │ 2011/07/11 04:08:31 PM │ 2011/07/11 04:24:36 PM │ SF      │ 94105.0 │ B03       │ 35           │ NULL    │                 9 │                    31 │         0 │             0 │           0 │               0 │ E13                 │                    NULL │                    NULL │               0 │             0 │                   0 │                 0 │                1 │ 745 - Alarm system sounded/no fire-accidental  │ NULL       │ 86 - Investigate         │ NULL                   │ NULL               │ NULL                                 │ 599 - Business office                            │ NULL                │ NULL           │ NULL                    │ NULL                      │ NULL        │ NULL               │ NULL                                   │ NULL           │ NULL             │                 NULL │ NULL        │ NULL            │                                 NULL │                                     NULL │                               NULL │                                 NULL │ NULL              │ NULL          │ NULL               │ NULL                   │ NULL                    │ NULL                                   │ NULL                               │ NULL                                     │ NULL                                         │                                NULL │                 6.0 │ Financial District/South Beach │ POINT (-122.397493 37.791195)     │ 2011/07/19 08:09:16 AM │ 2024/10/30 02:24:30 AM │\n",
       "│        11063446 │               0 │ 110634460 │ 419 Fulton St.        │ 2011/07/11    │   111920269 │ 2011/07/11 04:14:33 PM │ 2011/07/11 04:21:41 PM │ 2011/07/11 05:10:01 PM │ SF      │ 94102.0 │ B02       │ 36           │ NULL    │                 1 │                     4 │         0 │             0 │           0 │               0 │ E36                 │                    NULL │                    NULL │               0 │             0 │                   0 │                 0 │                1 │ 118 - Trash or rubbish fire, contained         │ NULL       │ 00 - Action taken, other │ NULL                   │ NULL               │ 2 - Detector did not alert occupants │ 962 - Residential street, road or residential dr │ NULL                │ NULL           │ NULL                    │ NULL                      │ NULL        │ NULL               │ NULL                                   │ NULL           │ NULL             │                 NULL │ NULL        │ NULL            │                                 NULL │                                     NULL │                               NULL │                                 NULL │ NULL              │ NULL          │ NULL               │ NULL                   │ NULL                    │ NULL                                   │ NULL                               │ NULL                                     │ NULL                                         │                                NULL │                 5.0 │ Hayes Valley                   │ POINT (-122.42381297 37.77847161) │ 2011/07/29 10:06:27 AM │ 2024/10/30 02:24:30 AM │\n",
       "│        11063448 │               0 │ 110634480 │ 151 Potrero Av.       │ 2011/07/11    │   111920273 │ 2011/07/11 04:24:39 PM │ 2011/07/11 04:30:51 PM │ 2011/07/11 04:36:50 PM │ SF      │ 94103.0 │ B02       │ 29           │ NULL    │                 3 │                    10 │         0 │             0 │           0 │               0 │ B03                 │                    NULL │                    NULL │               0 │             0 │                   0 │                 0 │                1 │ 600 - Good intent call, other                  │ NULL       │ 86 - Investigate         │ NULL                   │ NULL               │ NULL                                 │ 599 - Business office                            │ NULL                │ NULL           │ NULL                    │ NULL                      │ NULL        │ NULL               │ NULL                                   │ NULL           │ NULL             │                 NULL │ NULL        │ NULL            │                                 NULL │                                     NULL │                               NULL │                                 NULL │ NULL              │ NULL          │ NULL               │ NULL                   │ NULL                    │ NULL                                   │ NULL                               │ NULL                                     │ NULL                                         │                                NULL │                 6.0 │ Mission                        │ POINT (-122.407663 37.767713)     │ 2011/07/19 08:30:33 AM │ 2024/10/30 02:24:30 AM │\n",
       "├─────────────────┴─────────────────┴───────────┴───────────────────────┴───────────────┴─────────────┴────────────────────────┴────────────────────────┴────────────────────────┴─────────┴─────────┴───────────┴──────────────┴─────────┴───────────────────┴───────────────────────┴───────────┴───────────────┴─────────────┴─────────────────┴─────────────────────┴─────────────────────────┴─────────────────────────┴─────────────────┴───────────────┴─────────────────────┴───────────────────┴──────────────────┴────────────────────────────────────────────────┴────────────┴──────────────────────────┴────────────────────────┴────────────────────┴──────────────────────────────────────┴──────────────────────────────────────────────────┴─────────────────────┴────────────────┴─────────────────────────┴───────────────────────────┴─────────────┴────────────────────┴────────────────────────────────────────┴────────────────┴──────────────────┴──────────────────────┴─────────────┴─────────────────┴──────────────────────────────────────┴──────────────────────────────────────────┴────────────────────────────────────┴──────────────────────────────────────┴───────────────────┴───────────────┴────────────────────┴────────────────────────┴─────────────────────────┴────────────────────────────────────────┴────────────────────────────────────┴──────────────────────────────────────────┴──────────────────────────────────────────────┴─────────────────────────────────────┴─────────────────────┴────────────────────────────────┴───────────────────────────────────┴────────────────────────┴────────────────────────┤\n",
       "│ 10 rows                                                                                                                                                                                                                                                                                                                                                                                                                                                                                                                                                                                                                                                                                                                                                                                                                                                                                                                                                                                                                                                                                                                                                                                                                                                                                                                                                                                                                                                                                                                                                                                                                                                 66 columns │\n",
       "└────────────────────────────────────────────────────────────────────────────────────────────────────────────────────────────────────────────────────────────────────────────────────────────────────────────────────────────────────────────────────────────────────────────────────────────────────────────────────────────────────────────────────────────────────────────────────────────────────────────────────────────────────────────────────────────────────────────────────────────────────────────────────────────────────────────────────────────────────────────────────────────────────────────────────────────────────────────────────────────────────────────────────────────────────────────────────────────────────────────────────────────────────────────────────────────────────────────────────────────────────────────────────────────────────────────────────────────────────────────────────────────────────────────────────────────────────────────────────────────────────────────────────────────────────────────────────────────────────────────────────────────────────────────────────────────────────────────────────────────────────────────────────────────────────────────────────────────────────────────────────────────────────────────────────────────────────────────────────────────────────────────────────────────────────────────────────────────────────────────────────────────────────────────────────────────────────────────────────────────────────────────────────────────────────────────────────────────────────────────────────────────────────────────────────────────────────────────────────────────────────┘"
      ]
     },
     "execution_count": 12,
     "metadata": {},
     "output_type": "execute_result"
    }
   ],
   "source": [
    "con.sql(\"\"\"\n",
    "        SELECT * FROM fire_incidents LIMIT 10\n",
    "        \"\"\")"
   ]
  },
  {
   "cell_type": "markdown",
   "metadata": {},
   "source": [
    "## Report example"
   ]
  },
  {
   "cell_type": "code",
   "execution_count": 13,
   "metadata": {},
   "outputs": [],
   "source": [
    "query = \"\"\"\n",
    "        SELECT * FROM fire_incidents_by_battalion WHERE incident_count > 100\n",
    "        \"\"\""
   ]
  },
  {
   "cell_type": "code",
   "execution_count": 14,
   "metadata": {},
   "outputs": [],
   "source": [
    "result_battalion_df = con.execute(query).df()"
   ]
  },
  {
   "cell_type": "code",
   "execution_count": 15,
   "metadata": {},
   "outputs": [
    {
     "data": {
      "image/png": "[encoded data removed]",
      "text/plain": [
       "<Figure size 1000x600 with 1 Axes>"
      ]
     },
     "metadata": {},
     "output_type": "display_data"
    }
   ],
   "source": [
    "# Plotting the number of fire incidents by battalion\n",
    "plt.figure(figsize=(10, 6))\n",
    "plt.bar(result_battalion_df['battalion'], result_battalion_df['incident_count'], color='coral')\n",
    "plt.xlabel('Battalion')\n",
    "plt.ylabel('Number of Fire Incidents')\n",
    "plt.title(f'Fire Incidents by Battalion (Battalions with more than 100 incidents)')\n",
    "plt.xticks(rotation=45)\n",
    "plt.tight_layout()\n",
    "plt.savefig(f'fire_incidents_by_battalion.png')\n",
    "plt.show()\n"
   ]
  }
 ],
 "metadata": {
  "kernelspec": {
   "display_name": "Python 3",
   "language": "python",
   "name": "python3"
  },
  "language_info": {
   "codemirror_mode": {
    "name": "ipython",
    "version": 3
   },
   "file_extension": ".py",
   "mimetype": "text/x-python",
   "name": "python",
   "nbconvert_exporter": "python",
   "pygments_lexer": "ipython3",
   "version": "3.10.13"
  }
 },
 "nbformat": 4,
 "nbformat_minor": 2
}
